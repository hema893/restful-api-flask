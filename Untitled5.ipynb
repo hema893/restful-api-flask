{
 "cells": [
  {
   "cell_type": "code",
   "execution_count": null,
   "id": "1ce20953-1181-4793-84bb-64f7fce3b2bf",
   "metadata": {},
   "outputs": [],
   "source": [
    "                                                      RESTFUL API $ FLASK"
   ]
  },
  {
   "cell_type": "code",
   "execution_count": null,
   "id": "956ca76d-2f1f-4fd8-9595-94f5bb81a5c6",
   "metadata": {},
   "outputs": [],
   "source": [
    "01.What is a RESTful API?"
   ]
  },
  {
   "cell_type": "code",
   "execution_count": null,
   "id": "3b3e635e-bc92-4b96-bc40-1e8422273158",
   "metadata": {},
   "outputs": [],
   "source": [
    "A **RESTful API** is a web service that allows communication between systems using standard HTTP methods (like GET, POST, PUT, DELETE). It treats data as resources, each with a unique URL, and typically exchanges data in JSON format. It's stateless, meaning each request is independent."
   ]
  },
  {
   "cell_type": "code",
   "execution_count": null,
   "id": "6df9778f-7c94-4907-8181-34e27810a3e6",
   "metadata": {},
   "outputs": [],
   "source": [
    "02.Explain the concept of API specification."
   ]
  },
  {
   "cell_type": "code",
   "execution_count": null,
   "id": "294806dc-f2b0-4064-a32f-4bcb15a36a51",
   "metadata": {},
   "outputs": [],
   "source": [
    "An **API specification** is a detailed document or blueprint that outlines how an Application Programming Interface (API) should behave. It defines the rules, structure, and interactions for communicating with a software component or service. Here's a breakdown of its key aspects:\n",
    "\n",
    "### 1. **Definition**\n",
    "\n",
    "An **API specification** describes:\n",
    "\n",
    "* **What endpoints are available** (URLs for requests)\n",
    "* **What methods are supported** (e.g., GET, POST, PUT, DELETE)\n",
    "* **What parameters can/must be passed**\n",
    "* **What request and response formats look like** (e.g., JSON or XML)\n",
    "* **Authentication and security requirements**\n",
    "\n",
    "### 2. **Purpose**\n",
    "\n",
    "The primary goal is to ensure that developers (both backend and frontend) understand how to correctly use the API without needing to dive into the source code.\n",
    "\n",
    "### 3. **Common API Specification Formats**\n",
    "\n",
    "* **OpenAPI (formerly Swagger):** Widely used for RESTful APIs.\n",
    "* **RAML (RESTful API Modeling Language)**\n",
    "* **API Blueprint**\n",
    "* **gRPC Protocol Buffers:** For defining APIs in gRPC systems.\n",
    "\n",
    "### 4. **Example (REST API Spec Snippet)**\n",
    "\n",
    "```yaml\n",
    "paths:\n",
    "  /users:\n",
    "    get:\n",
    "      summary: Get all users\n",
    "      responses:\n",
    "        200:\n",
    "          description: A list of users\n",
    "```\n",
    "\n",
    "### 5. **Benefits**\n",
    "\n",
    "* **Standardization:** Encourages consistency across APIs.\n",
    "* **Automation:** Allows tools to auto-generate documentation, SDKs, and tests.\n",
    "* **Collaboration:** Helps developers, testers, and API consumers work together effectively.\n",
    "* **Validation:** Ensures that requests and responses follow defined rules.\n",
    "\n",
    "In short, an API specification serves as a contract that guides how software systems communicate, ensuring clarity, reliability, and scalability.\n"
   ]
  },
  {
   "cell_type": "code",
   "execution_count": null,
   "id": "492b8f24-8079-43c9-8884-ea4e6a73bb47",
   "metadata": {},
   "outputs": [],
   "source": [
    "03 What is Flask, and why is it popular for building API?"
   ]
  },
  {
   "cell_type": "code",
   "execution_count": null,
   "id": "7a652a65-c374-47b8-b6f2-9b012f9dc960",
   "metadata": {},
   "outputs": [],
   "source": [
    "**Flask** is a lightweight Python web framework used to build web apps and APIs. It's popular because it's simple, flexible, easy to learn, and ideal for creating RESTful APIs quickly. Flask supports custom setups and has a large community with many useful extensions."
   ]
  },
  {
   "cell_type": "code",
   "execution_count": null,
   "id": "3959476e-1e6e-4ae0-994a-a75643c3269c",
   "metadata": {},
   "outputs": [],
   "source": [
    "04 What is routing in Flask?"
   ]
  },
  {
   "cell_type": "code",
   "execution_count": null,
   "id": "1fd4c7d1-77d6-4e5d-b325-a5b07728e240",
   "metadata": {},
   "outputs": [],
   "source": [
    "**Routing in Flask** connects a URL to a function. When someone visits that URL, Flask runs the linked function and returns a response.\n",
    "\n",
    "**Example:**\n",
    "\n",
    "```python\n",
    "@app.route('/hello')\n",
    "def hello():\n",
    "    return \"Hello, World!\"\n",
    "```"
   ]
  },
  {
   "cell_type": "code",
   "execution_count": null,
   "id": "9bb8d20b-cc63-4a4e-bb68-84727456405e",
   "metadata": {},
   "outputs": [],
   "source": [
    "05 How do you create a simple Flask application?"
   ]
  },
  {
   "cell_type": "code",
   "execution_count": null,
   "id": "5ae0804d-b223-4fb0-9440-29c85865c029",
   "metadata": {},
   "outputs": [],
   "source": [
    "To create a simple Flask app:\n",
    "\n",
    "### 🔹 Steps:\n",
    "\n",
    "1. **Install Flask**\n",
    "\n",
    "   ```bash\n",
    "   pip install flask\n",
    "   ```\n",
    "\n",
    "2. **Create app file (e.g., app.py)**\n",
    "\n",
    "   ```python\n",
    "   from flask import Flask\n",
    "   app = Flask(__name__)\n",
    "\n",
    "   @app.route('/')\n",
    "   def home():\n",
    "       return \"Hello, Flask!\"\n",
    "\n",
    "   if __name__ == '__main__':\n",
    "       app.run(debug=True)\n",
    "   ```\n",
    "\n",
    "3. **Run the app**\n",
    "\n",
    "   ```bash\n",
    "   python app.py\n",
    "   ```"
   ]
  },
  {
   "cell_type": "code",
   "execution_count": null,
   "id": "7e5a0ce0-4a53-4c92-8f5f-31e5e9fbe84a",
   "metadata": {},
   "outputs": [],
   "source": [
    "06 What are HTTP methods used in RESTful API?"
   ]
  },
  {
   "cell_type": "code",
   "execution_count": null,
   "id": "729017d3-ec1c-4f0c-a664-91021b21b1d4",
   "metadata": {},
   "outputs": [],
   "source": [
    "The main **HTTP methods** used in RESTful APIs are:\n",
    "\n",
    "1. **GET** – Retrieve data (e.g., get user info)\n",
    "2. **POST** – Create new data (e.g., add a new user)\n",
    "3. **PUT** – Update existing data (e.g., edit user info)\n",
    "4. **DELETE** – Remove data (e.g., delete a user)\n",
    "5. **PATCH** – Partially update data (e.g., change only the email)\n",
    "\n",
    "These methods define how clients interact with server resources."
   ]
  },
  {
   "cell_type": "code",
   "execution_count": null,
   "id": "b7d2d235-f078-410b-9e28-4ab671d4ba38",
   "metadata": {},
   "outputs": [],
   "source": [
    "07 What is the purpose of the @app.route() decorator in Flask?"
   ]
  },
  {
   "cell_type": "code",
   "execution_count": null,
   "id": "498e8d7c-1366-457e-af24-d2f98d86ab7d",
   "metadata": {},
   "outputs": [],
   "source": [
    "The **`@app.route()`** decorator in Flask is used to **define the URL route** for a specific function. It tells Flask what URL should trigger that function.\n",
    "\n",
    "### 🔹 Example:\n",
    "\n",
    "```python\n",
    "@app.route('/hello')\n",
    "def hello:\n",
    "    return \"Hello, World!\"\n",
    "```\n",
    "\n",
    "**Purpose:** It links a URL (`/hello`) to the `hello()` function, so when that URL is visited, the function runs.\n"
   ]
  },
  {
   "cell_type": "markdown",
   "id": "692d1863-ef8f-4623-ba68-4e785afda28c",
   "metadata": {},
   "source": [
    "08 What is the difference between GET and POST HTTP methods?"
   ]
  },
  {
   "cell_type": "code",
   "execution_count": null,
   "id": "de791a9a-73ab-4af9-96d5-dc4c3a4c58ec",
   "metadata": {},
   "outputs": [],
   "source": [
    "**GET** is used to **retrieve data** and sends data in the URL.\n",
    "**POST** is used to **send or submit data** and sends data in the request body."
   ]
  },
  {
   "cell_type": "code",
   "execution_count": null,
   "id": "1290d282-ce5d-40db-b3ae-7af7a48f6fb5",
   "metadata": {},
   "outputs": [],
   "source": [
    "09 How do you handle errors in Flask API?"
   ]
  },
  {
   "cell_type": "code",
   "execution_count": null,
   "id": "f5b5d34e-4fd8-4449-85fc-0f7a3a5a2a4a",
   "metadata": {},
   "outputs": [],
   "source": [
    "In Flask, you handle errors using **error handlers** with the `@app.errorhandler()` decorator.\n",
    "\n",
    "### 🔹 Example:\n",
    "\n",
    "```python\n",
    "@app.errorhandler(404)\n",
    "def not_found(e):\n",
    "    return {\"error\": \"Not found\"}, 404\n",
    "```\n",
    "\n",
    "This returns a custom message when a 404 error occurs. You can handle other errors like 400, 500, etc., the same way."
   ]
  },
  {
   "cell_type": "code",
   "execution_count": null,
   "id": "6c87eff9-de06-4f73-a8ae-bbd3beb8bdc0",
   "metadata": {},
   "outputs": [],
   "source": [
    "10 How do you connect Flask to a SQL database?"
   ]
  },
  {
   "cell_type": "code",
   "execution_count": null,
   "id": "f6936ded-67c2-40c5-a015-155be5e89221",
   "metadata": {},
   "outputs": [],
   "source": [
    "To connect Flask to a SQL database, use **Flask-SQLAlchemy**.\n",
    "\n",
    "### 🔹 Steps:\n",
    "\n",
    "1. **Install**\n",
    "\n",
    "   ```bash\n",
    "   pip install flask-sqlalchemy\n",
    "   ```\n",
    "\n",
    "2. **Setup**\n",
    "\n",
    "   ```python\n",
    "   from flask_sqlalchemy import SQLAlchemy\n",
    "\n",
    "   app = Flask(__name__)\n",
    "   app.config['SQLALCHEMY_DATABASE_URI'] = 'sqlite:///mydb.db'\n",
    "   db = SQLAlchemy(app)\n",
    "   ```\n",
    "\n",
    "This connects your Flask app to an SQLite database (`mydb.db`)."
   ]
  },
  {
   "cell_type": "code",
   "execution_count": null,
   "id": "042a5bd3-f5d6-49f2-a6cd-6fc6c2244521",
   "metadata": {},
   "outputs": [],
   "source": [
    "11. What is the role of Flask-SQLAlchemy?"
   ]
  },
  {
   "cell_type": "code",
   "execution_count": null,
   "id": "32fbd893-30e2-4312-9893-11174b5868c2",
   "metadata": {},
   "outputs": [],
   "source": [
    "**Flask-SQLAlchemy** is an extension that integrates **SQLAlchemy** with **Flask** to make database handling easier.\n",
    "\n",
    "### 🔹 Role:\n",
    "\n",
    "* Connects Flask to SQL databases.\n",
    "* Provides a simple way to define models (tables).\n",
    "* Handles database queries, updates, and relationships.\n",
    "\n",
    "### 🔹 Example:\n",
    "\n",
    "```python\n",
    "from flask_sqlalchemy import SQLAlchemy\n",
    "\n",
    "db = SQLAlchemy(app)\n",
    "\n",
    "class User(db.Model):\n",
    "    id = db.Column(db.Integer, primary_key=True)\n",
    "    name = db.Column(db.String(50))\n",
    "```\n",
    "\n",
    "It simplifies working with databases in Flask apps."
   ]
  },
  {
   "cell_type": "code",
   "execution_count": null,
   "id": "4bb800f4-035e-40f4-97f8-340a95f3d246",
   "metadata": {},
   "outputs": [],
   "source": [
    "12. What are Flask blueprints, and how are they useful?"
   ]
  },
  {
   "cell_type": "code",
   "execution_count": null,
   "id": "9500a02c-c3aa-4906-8031-1532eda662ef",
   "metadata": {},
   "outputs": [],
   "source": [
    "**Flask Blueprints** are a way to organize a Flask app into smaller, reusable modules.\n",
    "\n",
    "### 🔹 Purpose:\n",
    "\n",
    "* Help structure large applications.\n",
    "* Group routes, views, and logic by feature (e.g., auth, admin).\n",
    "\n",
    "### 🔹 Benefits:\n",
    "\n",
    "* Better code organization.\n",
    "* Easier to maintain and scale.\n",
    "* Allows code reuse across projects.\n",
    "\n",
    "### 🔹 Example:\n",
    "\n",
    "```python\n",
    "from flask import Blueprint\n",
    "\n",
    "auth = Blueprint('auth', __name__)\n",
    "\n",
    "@auth.route('/login')\n",
    "def login():\n",
    "    return \"Login Page\"\n",
    "```\n",
    "\n",
    "You then register it in the main app using `app.register_blueprint(auth)`."
   ]
  },
  {
   "cell_type": "code",
   "execution_count": null,
   "id": "b8bf967d-c730-494f-b040-db8ac41fa1d7",
   "metadata": {},
   "outputs": [],
   "source": [
    "13. What is the purpose of Flask's request object?"
   ]
  },
  {
   "cell_type": "code",
   "execution_count": null,
   "id": "6d25c455-e6b7-47c3-8369-9c53c34245db",
   "metadata": {},
   "outputs": [],
   "source": [
    "The **`request`** object in Flask is used to **access data sent by the client** in an HTTP request.\n",
    "\n",
    "### 🔹 Purpose:\n",
    "\n",
    "* Get form data, JSON, headers, or query parameters.\n",
    "\n",
    "### 🔹 Example:\n",
    "\n",
    "```python\n",
    "from flask import request\n",
    "\n",
    "name = request.args.get('name')  # For query params\n",
    "data = request.get_json()        # For JSON body\n",
    "```"
   ]
  },
  {
   "cell_type": "code",
   "execution_count": null,
   "id": "40127a0e-e744-4c35-a603-d220b302cccb",
   "metadata": {},
   "outputs": [],
   "source": [
    "14. How do you create a RESTful API endpoint using Flask?"
   ]
  },
  {
   "cell_type": "code",
   "execution_count": null,
   "id": "a9b54750-0653-4432-81b0-1e128f615d81",
   "metadata": {},
   "outputs": [],
   "source": [
    "To create a RESTful API endpoint in Flask:\n",
    "\n",
    "### 🔹 Example:\n",
    "\n",
    "```python\n",
    "from flask import Flask, jsonify\n",
    "\n",
    "app = Flask(__name__)\n",
    "\n",
    "@app.route('/api/data', methods=['GET'])\n",
    "def get_data():\n",
    "    return jsonify({\"message\": \"Hello, API!\"})\n",
    "```\n",
    "\n",
    "**Explanation:**\n",
    "\n",
    "* `@app.route()` defines the endpoint.\n",
    "* `methods=['GET']` specifies the HTTP method.\n",
    "* `jsonify()` returns a JSON response."
   ]
  },
  {
   "cell_type": "code",
   "execution_count": null,
   "id": "94cdd204-5af3-4b9c-b8c2-94e20a6bfcae",
   "metadata": {},
   "outputs": [],
   "source": [
    "15. What is the purpose of Flask's jsonify() function?"
   ]
  },
  {
   "cell_type": "code",
   "execution_count": null,
   "id": "9ca79e4a-51c6-4b0f-a0a2-399494777bd9",
   "metadata": {},
   "outputs": [],
   "source": [
    "Flask’s **`jsonify()`** function is used to **convert Python data (like dictionaries) into JSON format** and return it as a response.\n",
    "\n",
    "### 🔹 Example:\n",
    "\n",
    "```python\n",
    "from flask import jsonify\n",
    "\n",
    "return jsonify({\"message\": \"Success\"})\n",
    "```\n",
    "\n",
    "It also sets the correct **Content-Type** (`application/json`) automatically."
   ]
  },
  {
   "cell_type": "code",
   "execution_count": null,
   "id": "9c1f3739-3bf9-4a6d-9335-4c77de2d2379",
   "metadata": {},
   "outputs": [],
   "source": [
    "16. Explain Flask’s url_for() function."
   ]
  },
  {
   "cell_type": "code",
   "execution_count": null,
   "id": "7fff17e1-8e0f-41ff-a8d2-79e24265c36d",
   "metadata": {},
   "outputs": [],
   "source": [
    "Flask’s **`url_for()`** function generates the **URL for a given function name**, making links more reliable and easier to manage.\n",
    "\n",
    "### 🔹 Example:\n",
    "\n",
    "```python\n",
    "url_for('home')  # Returns '/' if there's a route for home()\n",
    "```\n",
    "\n",
    "It helps avoid hardcoding URLs and updates automatically if routes change."
   ]
  },
  {
   "cell_type": "code",
   "execution_count": null,
   "id": "2f0ebcdd-82cd-44ec-80fa-2459d26b8227",
   "metadata": {},
   "outputs": [],
   "source": [
    "17.How does Flask handle static files (CSS, JavaScript, etc.)?"
   ]
  },
  {
   "cell_type": "code",
   "execution_count": null,
   "id": "f325a52d-f755-4663-b30e-1771d1cc1ebc",
   "metadata": {},
   "outputs": [],
   "source": [
    "Flask handles static files from the **`static/`** folder. You can access them using the URL path `/static/filename`.\n",
    "\n",
    "### Example:\n",
    "\n",
    "```html\n",
    "<link rel=\"stylesheet\" href=\"{{ url_for('static', filename='style.css') }}\">\n",
    "```"
   ]
  },
  {
   "cell_type": "code",
   "execution_count": null,
   "id": "9cba01b7-f688-48b1-829e-49d4d2b4d6a8",
   "metadata": {},
   "outputs": [],
   "source": [
    "18. What is an API specification, and how does it help in building a Flask API?"
   ]
  },
  {
   "cell_type": "code",
   "execution_count": null,
   "id": "3526e53a-f6fa-43c6-9ba6-ded83db09f18",
   "metadata": {},
   "outputs": [],
   "source": [
    "An **API specification** defines how an API should work — including endpoints, methods, data formats, and responses.\n",
    "\n",
    "### 🔹 In Flask:\n",
    "\n",
    "It helps by serving as a **blueprint** for building the API, ensuring **clarity**, **consistency**, and easier **collaboration** between developers."
   ]
  },
  {
   "cell_type": "code",
   "execution_count": null,
   "id": "a5358185-367e-4930-9c12-814ec095bdf3",
   "metadata": {},
   "outputs": [],
   "source": [
    "19. What are HTTP status codes, and why are they important in a Flask API?"
   ]
  },
  {
   "cell_type": "code",
   "execution_count": null,
   "id": "421e59f8-90c3-4368-87c5-c30197321cd4",
   "metadata": {},
   "outputs": [],
   "source": [
    "**HTTP status codes** are numbers sent in responses to indicate the result of a request (e.g., success, error).\n",
    "\n",
    "### 🔹 Importance in Flask API:\n",
    "\n",
    "* They tell the client what happened (e.g., `200 OK`, `404 Not Found`, `500 Internal Server Error`).\n",
    "* Help in **debugging** and **proper API communication**.\n",
    "\n",
    "### 🔹 Example:\n",
    "\n",
    "```python\n",
    "return {\"message\": \"Not found\"}, 404\n",
    "```"
   ]
  },
  {
   "cell_type": "code",
   "execution_count": null,
   "id": "e4a0c2f6-4c68-4ee1-8b75-48d9f1571ac2",
   "metadata": {},
   "outputs": [],
   "source": [
    "20.How do you handle POST requests in Flask?"
   ]
  },
  {
   "cell_type": "code",
   "execution_count": null,
   "id": "8f542755-876c-4df8-865e-f092627267b2",
   "metadata": {},
   "outputs": [],
   "source": [
    "To handle **POST** requests in Flask, use the `@app.route()` decorator with `methods=['POST']` and access data using `request`.\n",
    "\n",
    "### 🔹 Example:\n",
    "\n",
    "```python\n",
    "from flask import Flask, request\n",
    "\n",
    "app = Flask(__name__)\n",
    "\n",
    "@app.route('/submit', methods=['POST'])\n",
    "def submit():\n",
    "    data = request.get_json()\n",
    "    return {\"received\": data}, 200\n",
    "```\n",
    "\n",
    "This handles JSON data sent in a POST request."
   ]
  },
  {
   "cell_type": "code",
   "execution_count": null,
   "id": "fd8a59f0-19fc-468a-998e-0bb4b76f0bf9",
   "metadata": {},
   "outputs": [],
   "source": [
    "21. How would you secure a Flask API?"
   ]
  },
  {
   "cell_type": "code",
   "execution_count": null,
   "id": "482de48e-80a3-44ab-88e5-38f0a4263f9f",
   "metadata": {},
   "outputs": [],
   "source": [
    "To secure a Flask API, you can:\n",
    "\n",
    "* **Use authentication** (e.g., API keys, JWT)\n",
    "* **Validate input data** to prevent attacks\n",
    "* **Use HTTPS** for encrypted communication\n",
    "* **Limit request rates** (rate limiting)\n",
    "* **Handle errors properly** (avoid exposing internals)\n",
    "\n",
    "These steps help protect the API from unauthorized access and attacks."
   ]
  },
  {
   "cell_type": "code",
   "execution_count": null,
   "id": "754819fb-bc43-4684-b067-c0f55af379ee",
   "metadata": {},
   "outputs": [],
   "source": [
    "22. What is the significance of the Flask-RESTful extension?"
   ]
  },
  {
   "cell_type": "code",
   "execution_count": null,
   "id": "c75a166a-026f-484a-81bc-6f49d25496ce",
   "metadata": {},
   "outputs": [],
   "source": [
    "**Flask-RESTful** is an extension that simplifies building **RESTful APIs** in Flask.\n",
    "\n",
    "### 🔹 Significance:\n",
    "\n",
    "* Adds helpful tools like **Resource classes**\n",
    "* Makes route handling and responses cleaner\n",
    "* Supports **request parsing** and **error handling**\n",
    "\n",
    "It helps build APIs faster and in a more organized way."
   ]
  },
  {
   "cell_type": "code",
   "execution_count": null,
   "id": "c2acd9da-da4a-446d-ab1d-c0fe44b9499c",
   "metadata": {},
   "outputs": [],
   "source": [
    "23. What is the role of Flask’s session object?"
   ]
  },
  {
   "cell_type": "code",
   "execution_count": null,
   "id": "ceea45bb-0c2f-4420-bfef-6ae896a5cc9b",
   "metadata": {},
   "outputs": [],
   "source": [
    "Flask’s `session` object is used to store data across requests for a specific user. It allows you to keep user-specific information (like login status or preferences) between different pages by storing data on the server-side and using cookies to identify users."
   ]
  },
  {
   "cell_type": "markdown",
   "id": "5d5d557f-3857-43f0-810a-2c1252a6c747",
   "metadata": {},
   "source": [
    "                                                          PRATICAL"
   ]
  },
  {
   "cell_type": "code",
   "execution_count": null,
   "id": "107ad13d-9a80-467e-96b3-182abfc510a5",
   "metadata": {},
   "outputs": [],
   "source": [
    "01.How do you create a basic Flask application?"
   ]
  },
  {
   "cell_type": "code",
   "execution_count": null,
   "id": "f848d43b-e282-47dd-9135-01ee71a30f23",
   "metadata": {},
   "outputs": [],
   "source": [
    "To create a basic Flask application, follow these steps:\n",
    "\n",
    "1. **Install Flask** (if not already installed):\n",
    "\n",
    "   ```bash\n",
    "   pip install flask\n",
    "   ```\n",
    "\n",
    "2. **Create a Python file**, e.g., `app.py`, with the following code:\n",
    "\n",
    "   ```python\n",
    "   from flask import Flask\n",
    "\n",
    "   app = Flask(__name__)\n",
    "\n",
    "   @app.route('/')\n",
    "   def home():\n",
    "       return 'Hello, Flask!'\n",
    "\n",
    "   if __name__ == '__main__':\n",
    "       app.run(debug=True)\n",
    "   ```\n",
    "\n",
    "3. **Run the app**:\n",
    "\n",
    "   ```bash\n",
    "   python app.py\n",
    "   ```\n",
    "\n",
    "This starts a basic Flask web server with one route (`/`) returning a simple message.\n"
   ]
  },
  {
   "cell_type": "code",
   "execution_count": null,
   "id": "5f315922-fb58-4d26-8336-6efd575f9350",
   "metadata": {},
   "outputs": [],
   "source": [
    "02.How do you serve static files like images or CSS in Flask?"
   ]
  },
  {
   "cell_type": "code",
   "execution_count": null,
   "id": "7eb246c4-0789-442f-8930-dbbdb990f540",
   "metadata": {},
   "outputs": [],
   "source": [
    "### ✅ To serve static files (like images or CSS) in Flask:\n",
    "\n",
    "1. **Create a `static/` folder** in your project directory.\n",
    "\n",
    "2. **Put your files** inside it:\n",
    "\n",
    "   * Example: `static/style.css`\n",
    "   * Example: `static/logo.png`\n",
    "\n",
    "3. **Use them in HTML with `url_for()`**:\n",
    "\n",
    "```html\n",
    "<link rel=\"stylesheet\" href=\"{{ url_for('static', filename='style.css') }}\">\n",
    "<img src=\"{{ url_for('static', filename='logo.png') }}\" alt=\"Logo\">\n",
    "```\n",
    "\n",
    "### 📌 Flask auto-serves files from `/static/`, so no extra setup is needed."
   ]
  },
  {
   "cell_type": "code",
   "execution_count": null,
   "id": "ec1c7d69-4b1e-4730-af5f-5a83c82d0aba",
   "metadata": {},
   "outputs": [],
   "source": [
    "03. How do you define different routes with different HTTP methods in Flask?"
   ]
  },
  {
   "cell_type": "code",
   "execution_count": null,
   "id": "635de83c-ae2d-499b-b819-d2d8d6a49707",
   "metadata": {},
   "outputs": [],
   "source": [
    "### ✅ To define routes with different HTTP methods in Flask:\n",
    "\n",
    "```python\n",
    "from flask import Flask, request\n",
    "\n",
    "app = Flask(__name__)\n",
    "\n",
    "@app.route('/data', methods=['GET', 'POST'])\n",
    "def handle_data():\n",
    "    if request.method == 'GET':\n",
    "        return \"This is a GET request\"\n",
    "    elif request.method == 'POST':\n",
    "        return \"This is a POST request\"\n",
    "```\n",
    "\n",
    "### 🔹 Explanation:\n",
    "\n",
    "* Use `methods=['GET', 'POST']` in `@app.route()`.\n",
    "* Use `request.method` to handle each method differently."
   ]
  },
  {
   "cell_type": "code",
   "execution_count": null,
   "id": "7087a0da-68c6-4e06-822e-4070712f6385",
   "metadata": {},
   "outputs": [],
   "source": [
    "04.How do you render HTML templates in Flask?"
   ]
  },
  {
   "cell_type": "code",
   "execution_count": null,
   "id": "0a280dd9-59e7-4cbb-bb80-046f1b857cf8",
   "metadata": {},
   "outputs": [],
   "source": [
    "To render HTML templates in Flask, use the **`render_template()`** function.\n",
    "\n",
    "### ✅ Steps:\n",
    "\n",
    "1. Create a **`templates/`** folder.\n",
    "2. Add an HTML file (e.g., `home.html`) inside it.\n",
    "3. In your Flask app:\n",
    "\n",
    "```python\n",
    "from flask import Flask, render_template\n",
    "\n",
    "app = Flask(__name__)\n",
    "\n",
    "@app.route('/')\n",
    "def home():\n",
    "    return render_template('home.html')\n",
    "```\n",
    "\n",
    "Flask will automatically look for `home.html` in the `templates/` folder."
   ]
  },
  {
   "cell_type": "code",
   "execution_count": null,
   "id": "954d184c-491b-4fc3-9223-92fb5bb6ed16",
   "metadata": {},
   "outputs": [],
   "source": [
    "05.How can you generate URLs for routes in Flask using url_for?"
   ]
  },
  {
   "cell_type": "code",
   "execution_count": null,
   "id": "0975528f-56ff-4ef3-9f28-b728967a5317",
   "metadata": {},
   "outputs": [],
   "source": [
    "In Flask, use **`url_for()`** to generate URLs for routes by their function names.\n",
    "\n",
    "### 🔹 Example:\n",
    "\n",
    "```python\n",
    "from flask import url_for\n",
    "\n",
    "url_for('home')  # Returns '/'\n",
    "url_for('user', username='john')  # e.g., '/user/john'\n",
    "```\n",
    "\n",
    "It helps avoid hardcoding URLs and keeps links dynamic and updated."
   ]
  },
  {
   "cell_type": "code",
   "execution_count": null,
   "id": "0e1958bc-8441-41f2-96e1-c2a77dee9432",
   "metadata": {},
   "outputs": [],
   "source": [
    "06.How do you handle forms in Flask?"
   ]
  },
  {
   "cell_type": "code",
   "execution_count": null,
   "id": "cc263a1f-aac6-4425-9af6-8d0460d0191b",
   "metadata": {},
   "outputs": [],
   "source": [
    "To handle forms in Flask, you typically use HTML forms along with Flask’s request handling. Here's a basic example:\n",
    "\n",
    "---\n",
    "\n",
    "### ✅ Step-by-Step: Handling Forms in Flask\n",
    "\n",
    "#### 1. **HTML Form (inside a template):**\n",
    "\n",
    "```html\n",
    "<!-- templates/form.html -->\n",
    "<form method=\"POST\">\n",
    "  <input type=\"text\" name=\"username\" placeholder=\"Enter your name\">\n",
    "  <input type=\"submit\" value=\"Submit\">\n",
    "</form>\n",
    "```\n",
    "\n",
    "---\n",
    "\n",
    "#### 2. **Flask App (app.py):**\n",
    "\n",
    "```python\n",
    "from flask import Flask, render_template, request\n",
    "\n",
    "app = Flask(__name__)\n",
    "\n",
    "@app.route('/', methods=['GET', 'POST'])\n",
    "def form():\n",
    "    if request.method == 'POST':\n",
    "        username = request.form['username']\n",
    "        return f'Hello, {username}!'\n",
    "    return render_template('form.html')\n",
    "\n",
    "if __name__ == '__main__':\n",
    "    app.run(debug=True)\n",
    "```\n",
    "\n",
    "---\n",
    "\n",
    "### 🔁 Explanation:\n",
    "\n",
    "* `request.form`: Accesses form data sent via POST.\n",
    "* `render_template`: Renders the HTML form.\n",
    "* `methods=['GET', 'POST']`: Allows both displaying the form and processing its submission.\n",
    "\n",
    "Let me know if you want to use **Flask-WTF** for more secure and structured form handling."
   ]
  },
  {
   "cell_type": "code",
   "execution_count": null,
   "id": "e2ac5c3b-25df-4466-a8de-2a669cd3e3a7",
   "metadata": {},
   "outputs": [],
   "source": [
    "07.How can you validate form data in Flask?"
   ]
  },
  {
   "cell_type": "code",
   "execution_count": null,
   "id": "a19664c6-73ed-485e-9d3e-2318918e5012",
   "metadata": {},
   "outputs": [],
   "source": [
    "You can validate form data in Flask using:\n",
    "\n",
    "1. **Manual validation**: Check form fields using `if` conditions in your route.\n",
    "2. **Flask-WTF**: A Flask extension that simplifies validation using built-in validators and form classes.\n",
    "\n",
    "**Example (manual):**\n",
    "\n",
    "```python\n",
    "if not request.form['username']:\n",
    "    error = \"Username is required\"\n",
    "```\n",
    "\n",
    "**Example (with Flask-WTF):**\n",
    "\n",
    "```python\n",
    "from wtforms import StringField\n",
    "from wtforms.validators import DataRequired\n",
    "```\n",
    "\n",
    "Use `Flask-WTF` for cleaner and more robust validation."
   ]
  },
  {
   "cell_type": "code",
   "execution_count": null,
   "id": "7fc3fbea-a47b-42a8-b980-563e701ac97e",
   "metadata": {},
   "outputs": [],
   "source": [
    "08.How do you manage sessions in Flask?"
   ]
  },
  {
   "cell_type": "code",
   "execution_count": null,
   "id": "ccaf5d06-3bd4-4e5e-8388-a9278278a2a2",
   "metadata": {},
   "outputs": [],
   "source": [
    "In Flask, you manage sessions using the `session` object from `flask`. It lets you store data (like user info) across requests.\n",
    "\n",
    "### ✅ Basic Usage:\n",
    "\n",
    "```python\n",
    "from flask import Flask, session, redirect, url_for, request\n",
    "\n",
    "app = Flask(__name__)\n",
    "app.secret_key = 'your_secret_key'  # Required for session to work\n",
    "\n",
    "@app.route('/', methods=['GET', 'POST'])\n",
    "def index():\n",
    "    if request.method == 'POST':\n",
    "        session['username'] = request.form['username']\n",
    "        return redirect(url_for('welcome'))\n",
    "    return '''\n",
    "        <form method=\"post\">\n",
    "            <input type=\"text\" name=\"username\">\n",
    "            <input type=\"submit\">\n",
    "        </form>\n",
    "    '''\n",
    "\n",
    "@app.route('/welcome')\n",
    "def welcome():\n",
    "    username = session.get('username')\n",
    "    return f'Hello, {username}!' if username else 'Not logged in'\n",
    "\n",
    "@app.route('/logout')\n",
    "def logout():\n",
    "    session.pop('username', None)\n",
    "    return 'Logged out'\n",
    "\n",
    "if __name__ == '__main__':\n",
    "    app.run(debug=True)\n",
    "```\n",
    "\n",
    "### 🔑 Notes:\n",
    "\n",
    "* `session` behaves like a dictionary.\n",
    "* You **must set a secret key** to use sessions.\n",
    "* Data is stored client-side in a cookie, but securely signed."
   ]
  },
  {
   "cell_type": "code",
   "execution_count": null,
   "id": "918d3de7-38bf-4a6b-81fa-a1f4e7ed9d2a",
   "metadata": {},
   "outputs": [],
   "source": [
    "09. How do you redirect to a different route in Flask?"
   ]
  },
  {
   "cell_type": "code",
   "execution_count": null,
   "id": "d95e6b11-52c7-4eb5-b3c1-9fb072de1bf6",
   "metadata": {},
   "outputs": [],
   "source": [
    "In Flask, you redirect to a different route using `redirect()` and `url_for()`.\n",
    "\n",
    "### ✅ Example:\n",
    "\n",
    "```python\n",
    "from flask import Flask, redirect, url_for\n",
    "\n",
    "app = Flask(__name__)\n",
    "\n",
    "@app.route('/')\n",
    "def home():\n",
    "    return redirect(url_for('welcome'))\n",
    "\n",
    "@app.route('/welcome')\n",
    "def welcome():\n",
    "    return 'Welcome Page'\n",
    "\n",
    "if __name__ == '__main__':\n",
    "    app.run(debug=True)\n",
    "```\n",
    "\n",
    "### 🔁 Key Points:\n",
    "\n",
    "* `redirect()` sends the user to a new URL.\n",
    "* `url_for('route_name')` dynamically generates the route URL."
   ]
  },
  {
   "cell_type": "code",
   "execution_count": null,
   "id": "7d50ebfd-c0b8-441f-bf43-8030a0c9ea81",
   "metadata": {},
   "outputs": [],
   "source": [
    "10.How do you handle errors in Flask eg(404)?"
   ]
  },
  {
   "cell_type": "code",
   "execution_count": null,
   "id": "ea280246-416c-4c36-af35-13ee876c7595",
   "metadata": {},
   "outputs": [],
   "source": [
    "In Flask, you handle errors like **404** using error handlers.\n",
    "\n",
    "### ✅ Example:\n",
    "\n",
    "```python\n",
    "@app.errorhandler(404)\n",
    "def page_not_found(e):\n",
    "    return 'Page not found', 404\n",
    "```\n",
    "\n",
    "This catches 404 errors and returns a custom message. You can also render a template instead."
   ]
  },
  {
   "cell_type": "code",
   "execution_count": null,
   "id": "a86f7c88-856c-4c20-8b3c-0232c332b64f",
   "metadata": {},
   "outputs": [],
   "source": [
    "11. How do you structure a Flask app using Blueprints?"
   ]
  },
  {
   "cell_type": "code",
   "execution_count": null,
   "id": "78c7c8bb-e655-4016-8108-ecf5891e11ed",
   "metadata": {},
   "outputs": [],
   "source": [
    "To structure a Flask app using **Blueprints**, you break your app into reusable components. Each Blueprint can contain its own routes, templates, and static files.\n",
    "\n",
    "---\n",
    "\n",
    "### ✅ Step-by-Step Example:\n",
    "\n",
    "#### 1. **Create a Blueprint (e.g., `user.py`):**\n",
    "\n",
    "```python\n",
    "# user.py\n",
    "from flask import Blueprint\n",
    "\n",
    "user_bp = Blueprint('user', __name__)\n",
    "\n",
    "@user_bp.route('/profile')\n",
    "def profile():\n",
    "    return 'User Profile Page'\n",
    "```\n",
    "\n",
    "---\n",
    "\n",
    "#### 2. **Register Blueprint in Main App (`app.py`):**\n",
    "\n",
    "```python\n",
    "from flask import Flask\n",
    "from user import user_bp\n",
    "\n",
    "app = Flask(__name__)\n",
    "app.register_blueprint(user_bp, url_prefix='/user')\n",
    "\n",
    "if __name__ == '__main__':\n",
    "    app.run(debug=True)\n",
    "```\n",
    "\n",
    "---\n",
    "\n",
    "### 🔁 Result:\n",
    "\n",
    "Visiting **`/user/profile`** will show:\n",
    "`User Profile Page`\n",
    "\n",
    "---\n",
    "\n",
    "### 🧩 Benefits:\n",
    "\n",
    "* Better code organization\n",
    "* Easier to manage large apps\n",
    "* Reusable app components\n",
    "\n",
    "Let me know if you want a multi-Blueprint example!"
   ]
  },
  {
   "cell_type": "code",
   "execution_count": null,
   "id": "93996af0-1bc5-4951-acf0-05b4510d2ca8",
   "metadata": {},
   "outputs": [],
   "source": [
    "12. How do you define a custom Jinja filter in Flask?"
   ]
  },
  {
   "cell_type": "code",
   "execution_count": null,
   "id": "f499fb57-1e34-4e26-9df4-619c30ccbb47",
   "metadata": {},
   "outputs": [],
   "source": [
    "To define a custom **Jinja filter** in Flask, you create a function and register it with `app.template_filter()`.\n",
    "\n",
    "---\n",
    "\n",
    "### ✅ Example:\n",
    "\n",
    "```python\n",
    "from flask import Flask\n",
    "\n",
    "app = Flask(__name__)\n",
    "\n",
    "# Define the custom filter\n",
    "@app.template_filter('reverse')\n",
    "def reverse_string(s):\n",
    "    return s[::-1]\n",
    "\n",
    "@app.route('/')\n",
    "def index():\n",
    "    return '''\n",
    "        {{ \"hello\" | reverse }}\n",
    "    '''\n",
    "```\n",
    "\n",
    "---"
   ]
  },
  {
   "cell_type": "code",
   "execution_count": null,
   "id": "766a1332-1359-464d-ba96-eae5974999c0",
   "metadata": {},
   "outputs": [],
   "source": [
    "13. How can you redirect with query parameters in Flask?"
   ]
  },
  {
   "cell_type": "code",
   "execution_count": null,
   "id": "43472657-9fc2-48f8-9709-81e4ea41aa7d",
   "metadata": {},
   "outputs": [],
   "source": [
    "In Flask, you can redirect with query parameters using `redirect()` and `url_for()` with arguments.\n",
    "\n",
    "### ✅ Example:\n",
    "\n",
    "```python\n",
    "from flask import redirect, url_for\n",
    "\n",
    "return redirect(url_for('search', q='flask'))\n",
    "```\n",
    "\n",
    "This redirects to `/search?q=flask`.\n"
   ]
  },
  {
   "cell_type": "code",
   "execution_count": null,
   "id": "a1ed80b6-0f01-41a6-8976-81cd1ca6d42d",
   "metadata": {},
   "outputs": [],
   "source": [
    "14. How do you return JSON responses in Flask?"
   ]
  },
  {
   "cell_type": "code",
   "execution_count": null,
   "id": "49b5e5b7-7c74-488a-8a41-5134a6a0be76",
   "metadata": {},
   "outputs": [],
   "source": [
    "In Flask, you can return JSON responses using `jsonify()`.\n",
    "\n",
    "### ✅ Example:\n",
    "\n",
    "```python\n",
    "from flask import jsonify\n",
    "\n",
    "@app.route('/data')\n",
    "def data():\n",
    "    return jsonify(name='Flask', version=2.0)\n",
    "```\n",
    "\n",
    "This returns a proper JSON response with headers."
   ]
  },
  {
   "cell_type": "code",
   "execution_count": null,
   "id": "2d9722c7-4fd8-4f22-baaf-adef139e2df0",
   "metadata": {},
   "outputs": [],
   "source": [
    "15. How do you capture URL parameters in Flask?"
   ]
  },
  {
   "cell_type": "code",
   "execution_count": null,
   "id": "d9cc9be8-01b7-4c1a-9305-d4d6a0a93006",
   "metadata": {},
   "outputs": [],
   "source": [
    "In Flask, you capture URL parameters using angle brackets (`< >`) in the route and function arguments.\n",
    "\n",
    "### ✅ Example:\n",
    "\n",
    "```python\n",
    "@app.route('/user/<username>')\n",
    "def show_user(username):\n",
    "    return f'Hello, {username}!'\n",
    "```\n",
    "\n",
    "### 📝 Result:\n",
    "\n",
    "Visiting `/user/Alex` returns: `Hello, Alex!`\n"
   ]
  },
  {
   "cell_type": "code",
   "execution_count": null,
   "id": "a2a65432-d9c4-45b9-8c15-501aac574c65",
   "metadata": {},
   "outputs": [],
   "source": []
  },
  {
   "cell_type": "code",
   "execution_count": null,
   "id": "29572f5d-a346-467a-bcea-fd9b133ae9da",
   "metadata": {},
   "outputs": [],
   "source": []
  },
  {
   "cell_type": "code",
   "execution_count": null,
   "id": "675c1502-5e05-4809-81ea-d057c86064aa",
   "metadata": {},
   "outputs": [],
   "source": []
  }
 ],
 "metadata": {
  "kernelspec": {
   "display_name": "Python 3 (ipykernel)",
   "language": "python",
   "name": "python3"
  },
  "language_info": {
   "codemirror_mode": {
    "name": "ipython",
    "version": 3
   },
   "file_extension": ".py",
   "mimetype": "text/x-python",
   "name": "python",
   "nbconvert_exporter": "python",
   "pygments_lexer": "ipython3",
   "version": "3.12.7"
  }
 },
 "nbformat": 4,
 "nbformat_minor": 5
}
